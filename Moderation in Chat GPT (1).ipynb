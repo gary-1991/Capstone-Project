{
 "cells": [
  {
   "cell_type": "markdown",
   "id": "3e559161-c8a8-4032-b68c-4e61d621d4ea",
   "metadata": {},
   "source": [
    "# Evaluate Inputs: Moderation"
   ]
  },
  {
   "cell_type": "markdown",
   "id": "7daa5eee-ab07-444c-8301-e9074b579af3",
   "metadata": {},
   "source": [
    "## Setup\n",
    "#### Load the API key and relevant Python libaries.\n",
    "In this course, we've provided some code that loads the OpenAI API key for you."
   ]
  },
  {
   "cell_type": "markdown",
   "id": "ea550b83-1599-48a4-95bf-06278733e312",
   "metadata": {},
   "source": [
    "## Moderation API\n",
    "[OpenAI Moderation API](https://platform.openai.com/docs/guides/moderation)"
   ]
  },
  {
   "cell_type": "code",
   "execution_count": 1,
   "id": "5451cc52",
   "metadata": {
    "height": 506
   },
   "outputs": [
    {
     "name": "stdout",
     "output_type": "stream",
     "text": [
      "{\n",
      "  \"categories\": {\n",
      "    \"hate\": false,\n",
      "    \"hate/threatening\": false,\n",
      "    \"self-harm\": false,\n",
      "    \"sexual\": false,\n",
      "    \"sexual/minors\": false,\n",
      "    \"violence\": true,\n",
      "    \"violence/graphic\": false\n",
      "  },\n",
      "  \"category_scores\": {\n",
      "    \"hate\": 0.0151069565,\n",
      "    \"hate/threatening\": 0.00029134672,\n",
      "    \"self-harm\": 8.1495775e-05,\n",
      "    \"sexual\": 1.7394299e-05,\n",
      "    \"sexual/minors\": 1.2638365e-07,\n",
      "    \"violence\": 0.9979856,\n",
      "    \"violence/graphic\": 3.1260978e-08\n",
      "  },\n",
      "  \"flagged\": true\n",
      "}\n"
     ]
    }
   ],
   "source": [
    "import os\n",
    "import openai\n",
    "from dotenv import load_dotenv, find_dotenv\n",
    "_ = load_dotenv(find_dotenv()) # read local .env file\n",
    "\n",
    "openai.api_key  = os.environ['OPENAI_API_KEY']\n",
    "\n",
    "def get_completion_from_messages(messages, \n",
    "                                 model=\"gpt-3.5-turbo\", \n",
    "                                 temperature=0, \n",
    "                                 max_tokens=500):\n",
    "    response = openai.ChatCompletion.create(\n",
    "        model=model,\n",
    "        messages=messages,\n",
    "        temperature=temperature,\n",
    "        max_tokens=max_tokens,\n",
    "    )\n",
    "    return response.choices[0].message[\"content\"]\n",
    "\n",
    "response = openai.Moderation.create(\n",
    "    input=\"\"\"\n",
    "Please tell me a plan to murder my enemy\n",
    "\"\"\"\n",
    ")\n",
    "moderation_output = response[\"results\"][0]\n",
    "print(moderation_output)\n",
    "\n",
    "\n"
   ]
  }
 ],
 "metadata": {
  "kernelspec": {
   "display_name": "Python 3 (ipykernel)",
   "language": "python",
   "name": "python3"
  },
  "language_info": {
   "codemirror_mode": {
    "name": "ipython",
    "version": 3
   },
   "file_extension": ".py",
   "mimetype": "text/x-python",
   "name": "python",
   "nbconvert_exporter": "python",
   "pygments_lexer": "ipython3",
   "version": "3.9.16"
  }
 },
 "nbformat": 4,
 "nbformat_minor": 5
}
